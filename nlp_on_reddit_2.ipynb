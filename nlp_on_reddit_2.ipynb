{
 "cells": [
  {
   "cell_type": "markdown",
   "id": "da97052f",
   "metadata": {},
   "source": [
    "# NLP on social media data (Part II) : Analysing Data For a Subreddit"
   ]
  },
  {
   "cell_type": "markdown",
   "id": "6e7e283d",
   "metadata": {},
   "source": [
    "## Load data"
   ]
  },
  {
   "cell_type": "markdown",
   "id": "f2f91484",
   "metadata": {},
   "source": [
    "First, we load our data from our SQLite database we saved last week."
   ]
  },
  {
   "cell_type": "code",
   "execution_count": 1,
   "id": "e5e84e50",
   "metadata": {},
   "outputs": [],
   "source": [
    "import sqlite3\n",
    "import pandas as pd\n",
    "import matplotlib.pyplot as plt"
   ]
  },
  {
   "cell_type": "code",
   "execution_count": 3,
   "id": "e50724e3",
   "metadata": {},
   "outputs": [
    {
     "data": {
      "text/html": [
       "<div>\n",
       "<style scoped>\n",
       "    .dataframe tbody tr th:only-of-type {\n",
       "        vertical-align: middle;\n",
       "    }\n",
       "\n",
       "    .dataframe tbody tr th {\n",
       "        vertical-align: top;\n",
       "    }\n",
       "\n",
       "    .dataframe thead th {\n",
       "        text-align: right;\n",
       "    }\n",
       "</style>\n",
       "<table border=\"1\" class=\"dataframe\">\n",
       "  <thead>\n",
       "    <tr style=\"text-align: right;\">\n",
       "      <th></th>\n",
       "      <th>title</th>\n",
       "      <th>link</th>\n",
       "      <th>author</th>\n",
       "      <th>n_comments</th>\n",
       "      <th>score</th>\n",
       "      <th>text</th>\n",
       "      <th>comments</th>\n",
       "    </tr>\n",
       "  </thead>\n",
       "  <tbody>\n",
       "    <tr>\n",
       "      <th>0</th>\n",
       "      <td>1 out of 5 young people 18-29 now say that the...</td>\n",
       "      <td>/r/sociology/comments/18e3ai0/1_out_of_5_young...</td>\n",
       "      <td>InfluenceLevel1629</td>\n",
       "      <td>419</td>\n",
       "      <td>1225</td>\n",
       "      <td></td>\n",
       "      <td>Note the 65+ age group value.\\n\\nViewed sociol...</td>\n",
       "    </tr>\n",
       "    <tr>\n",
       "      <th>1</th>\n",
       "      <td>Is there a paedophilia-panic going on in the US?</td>\n",
       "      <td>/r/sociology/comments/17nowa7/is_there_a_paedo...</td>\n",
       "      <td>pixelhippie</td>\n",
       "      <td>478</td>\n",
       "      <td>1149</td>\n",
       "      <td>Sorry for the bold and somewhat exaggerated cl...</td>\n",
       "      <td>Honestly, you may be right. I have certainly s...</td>\n",
       "    </tr>\n",
       "    <tr>\n",
       "      <th>2</th>\n",
       "      <td>Burned Out?</td>\n",
       "      <td>/r/sociology/comments/18btdj0/burned_out/</td>\n",
       "      <td>Past_Potential902</td>\n",
       "      <td>185</td>\n",
       "      <td>774</td>\n",
       "      <td>I saw this interesting tweet from a Professor....</td>\n",
       "      <td>I feel like none of us have really recovered f...</td>\n",
       "    </tr>\n",
       "    <tr>\n",
       "      <th>3</th>\n",
       "      <td>Are memes ok? (Goffman inspired meme)</td>\n",
       "      <td>/r/sociology/comments/q3p5wh/are_memes_ok_goff...</td>\n",
       "      <td>swerc137</td>\n",
       "      <td>19</td>\n",
       "      <td>764</td>\n",
       "      <td></td>\n",
       "      <td>Surprise parties. This is what killed my perso...</td>\n",
       "    </tr>\n",
       "    <tr>\n",
       "      <th>4</th>\n",
       "      <td>For the sociologist who love The Office as muc...</td>\n",
       "      <td>/r/sociology/comments/ktalnx/for_the_sociologi...</td>\n",
       "      <td>frenchkafka</td>\n",
       "      <td>15</td>\n",
       "      <td>630</td>\n",
       "      <td></td>\n",
       "      <td>My students read part of *Suicide* for their S...</td>\n",
       "    </tr>\n",
       "    <tr>\n",
       "      <th>...</th>\n",
       "      <td>...</td>\n",
       "      <td>...</td>\n",
       "      <td>...</td>\n",
       "      <td>...</td>\n",
       "      <td>...</td>\n",
       "      <td>...</td>\n",
       "      <td>...</td>\n",
       "    </tr>\n",
       "    <tr>\n",
       "      <th>995</th>\n",
       "      <td>Big sociological theorists in their \"prime\" ri...</td>\n",
       "      <td>/r/sociology/comments/or3zqy/big_sociological_...</td>\n",
       "      <td>leftzoloft</td>\n",
       "      <td>36</td>\n",
       "      <td>36</td>\n",
       "      <td>It feels like sociology is losing its big theo...</td>\n",
       "      <td>It’s less about sociology losing its big theor...</td>\n",
       "    </tr>\n",
       "    <tr>\n",
       "      <th>996</th>\n",
       "      <td>Why wasn't race created earlier?</td>\n",
       "      <td>/r/sociology/comments/ly2nl3/why_wasnt_race_cr...</td>\n",
       "      <td>leftzoloft</td>\n",
       "      <td>17</td>\n",
       "      <td>36</td>\n",
       "      <td>A lot of sociologists argue (and I agree) that...</td>\n",
       "      <td>Race and racism can't really come to fruition ...</td>\n",
       "    </tr>\n",
       "    <tr>\n",
       "      <th>997</th>\n",
       "      <td>Has there been research done on how to reduce ...</td>\n",
       "      <td>/r/sociology/comments/jxydre/has_there_been_re...</td>\n",
       "      <td>Slashtap</td>\n",
       "      <td>13</td>\n",
       "      <td>35</td>\n",
       "      <td>I was talking to a friend in the military this...</td>\n",
       "      <td>Having racial bias (with varying degrees of in...</td>\n",
       "    </tr>\n",
       "    <tr>\n",
       "      <th>998</th>\n",
       "      <td>What are large, free database sets that you wi...</td>\n",
       "      <td>/r/sociology/comments/iux2su/what_are_large_fr...</td>\n",
       "      <td>ViolaInternational</td>\n",
       "      <td>6</td>\n",
       "      <td>39</td>\n",
       "      <td></td>\n",
       "      <td>World values survey and European Social Survey...</td>\n",
       "    </tr>\n",
       "    <tr>\n",
       "      <th>999</th>\n",
       "      <td>Any recommendations for Marxist-focused sociol...</td>\n",
       "      <td>/r/sociology/comments/clia13/any_recommendatio...</td>\n",
       "      <td>Dpira_Ugotts</td>\n",
       "      <td>33</td>\n",
       "      <td>35</td>\n",
       "      <td>I have been considering doing a PhD in sociolo...</td>\n",
       "      <td>Humboldt University in Berlin, Germany is the ...</td>\n",
       "    </tr>\n",
       "  </tbody>\n",
       "</table>\n",
       "<p>1000 rows × 7 columns</p>\n",
       "</div>"
      ],
      "text/plain": [
       "                                                 title  \\\n",
       "0    1 out of 5 young people 18-29 now say that the...   \n",
       "1     Is there a paedophilia-panic going on in the US?   \n",
       "2                                          Burned Out?   \n",
       "3                Are memes ok? (Goffman inspired meme)   \n",
       "4    For the sociologist who love The Office as muc...   \n",
       "..                                                 ...   \n",
       "995  Big sociological theorists in their \"prime\" ri...   \n",
       "996                   Why wasn't race created earlier?   \n",
       "997  Has there been research done on how to reduce ...   \n",
       "998  What are large, free database sets that you wi...   \n",
       "999  Any recommendations for Marxist-focused sociol...   \n",
       "\n",
       "                                                  link              author  \\\n",
       "0    /r/sociology/comments/18e3ai0/1_out_of_5_young...  InfluenceLevel1629   \n",
       "1    /r/sociology/comments/17nowa7/is_there_a_paedo...         pixelhippie   \n",
       "2            /r/sociology/comments/18btdj0/burned_out/   Past_Potential902   \n",
       "3    /r/sociology/comments/q3p5wh/are_memes_ok_goff...            swerc137   \n",
       "4    /r/sociology/comments/ktalnx/for_the_sociologi...         frenchkafka   \n",
       "..                                                 ...                 ...   \n",
       "995  /r/sociology/comments/or3zqy/big_sociological_...          leftzoloft   \n",
       "996  /r/sociology/comments/ly2nl3/why_wasnt_race_cr...          leftzoloft   \n",
       "997  /r/sociology/comments/jxydre/has_there_been_re...            Slashtap   \n",
       "998  /r/sociology/comments/iux2su/what_are_large_fr...  ViolaInternational   \n",
       "999  /r/sociology/comments/clia13/any_recommendatio...        Dpira_Ugotts   \n",
       "\n",
       "     n_comments  score                                               text  \\\n",
       "0           419   1225                                                      \n",
       "1           478   1149  Sorry for the bold and somewhat exaggerated cl...   \n",
       "2           185    774  I saw this interesting tweet from a Professor....   \n",
       "3            19    764                                                      \n",
       "4            15    630                                                      \n",
       "..          ...    ...                                                ...   \n",
       "995          36     36  It feels like sociology is losing its big theo...   \n",
       "996          17     36  A lot of sociologists argue (and I agree) that...   \n",
       "997          13     35  I was talking to a friend in the military this...   \n",
       "998           6     39                                                      \n",
       "999          33     35  I have been considering doing a PhD in sociolo...   \n",
       "\n",
       "                                              comments  \n",
       "0    Note the 65+ age group value.\\n\\nViewed sociol...  \n",
       "1    Honestly, you may be right. I have certainly s...  \n",
       "2    I feel like none of us have really recovered f...  \n",
       "3    Surprise parties. This is what killed my perso...  \n",
       "4    My students read part of *Suicide* for their S...  \n",
       "..                                                 ...  \n",
       "995  It’s less about sociology losing its big theor...  \n",
       "996  Race and racism can't really come to fruition ...  \n",
       "997  Having racial bias (with varying degrees of in...  \n",
       "998  World values survey and European Social Survey...  \n",
       "999  Humboldt University in Berlin, Germany is the ...  \n",
       "\n",
       "[1000 rows x 7 columns]"
      ]
     },
     "execution_count": 3,
     "metadata": {},
     "output_type": "execute_result"
    }
   ],
   "source": [
    "con = sqlite3.connect('so_reddit.sqlite')\n",
    "df = pd.read_sql_query('SELECT * from posts;', con)\n",
    "con.close()\n",
    "df"
   ]
  },
  {
   "cell_type": "code",
   "execution_count": 5,
   "id": "d18a1407",
   "metadata": {},
   "outputs": [
    {
     "data": {
      "text/html": [
       "<div>\n",
       "<style scoped>\n",
       "    .dataframe tbody tr th:only-of-type {\n",
       "        vertical-align: middle;\n",
       "    }\n",
       "\n",
       "    .dataframe tbody tr th {\n",
       "        vertical-align: top;\n",
       "    }\n",
       "\n",
       "    .dataframe thead th {\n",
       "        text-align: right;\n",
       "    }\n",
       "</style>\n",
       "<table border=\"1\" class=\"dataframe\">\n",
       "  <thead>\n",
       "    <tr style=\"text-align: right;\">\n",
       "      <th></th>\n",
       "      <th>title</th>\n",
       "      <th>link</th>\n",
       "      <th>author</th>\n",
       "      <th>n_comments</th>\n",
       "      <th>score</th>\n",
       "      <th>text</th>\n",
       "      <th>comments</th>\n",
       "      <th>combined</th>\n",
       "    </tr>\n",
       "  </thead>\n",
       "  <tbody>\n",
       "    <tr>\n",
       "      <th>0</th>\n",
       "      <td>1 out of 5 young people 18-29 now say that the...</td>\n",
       "      <td>/r/sociology/comments/18e3ai0/1_out_of_5_young...</td>\n",
       "      <td>InfluenceLevel1629</td>\n",
       "      <td>419</td>\n",
       "      <td>1225</td>\n",
       "      <td></td>\n",
       "      <td>Note the 65+ age group value.\\n\\nViewed sociol...</td>\n",
       "      <td>1 out of 5 young people 18-29 now say that the...</td>\n",
       "    </tr>\n",
       "    <tr>\n",
       "      <th>1</th>\n",
       "      <td>Is there a paedophilia-panic going on in the US?</td>\n",
       "      <td>/r/sociology/comments/17nowa7/is_there_a_paedo...</td>\n",
       "      <td>pixelhippie</td>\n",
       "      <td>478</td>\n",
       "      <td>1149</td>\n",
       "      <td>Sorry for the bold and somewhat exaggerated cl...</td>\n",
       "      <td>Honestly, you may be right. I have certainly s...</td>\n",
       "      <td>Is there a paedophilia-panic going on in the U...</td>\n",
       "    </tr>\n",
       "    <tr>\n",
       "      <th>2</th>\n",
       "      <td>Burned Out?</td>\n",
       "      <td>/r/sociology/comments/18btdj0/burned_out/</td>\n",
       "      <td>Past_Potential902</td>\n",
       "      <td>185</td>\n",
       "      <td>774</td>\n",
       "      <td>I saw this interesting tweet from a Professor....</td>\n",
       "      <td>I feel like none of us have really recovered f...</td>\n",
       "      <td>Burned Out? I saw this interesting tweet from ...</td>\n",
       "    </tr>\n",
       "    <tr>\n",
       "      <th>3</th>\n",
       "      <td>Are memes ok? (Goffman inspired meme)</td>\n",
       "      <td>/r/sociology/comments/q3p5wh/are_memes_ok_goff...</td>\n",
       "      <td>swerc137</td>\n",
       "      <td>19</td>\n",
       "      <td>764</td>\n",
       "      <td></td>\n",
       "      <td>Surprise parties. This is what killed my perso...</td>\n",
       "      <td>Are memes ok? (Goffman inspired meme)</td>\n",
       "    </tr>\n",
       "    <tr>\n",
       "      <th>4</th>\n",
       "      <td>For the sociologist who love The Office as muc...</td>\n",
       "      <td>/r/sociology/comments/ktalnx/for_the_sociologi...</td>\n",
       "      <td>frenchkafka</td>\n",
       "      <td>15</td>\n",
       "      <td>630</td>\n",
       "      <td></td>\n",
       "      <td>My students read part of *Suicide* for their S...</td>\n",
       "      <td>For the sociologist who love The Office as muc...</td>\n",
       "    </tr>\n",
       "    <tr>\n",
       "      <th>...</th>\n",
       "      <td>...</td>\n",
       "      <td>...</td>\n",
       "      <td>...</td>\n",
       "      <td>...</td>\n",
       "      <td>...</td>\n",
       "      <td>...</td>\n",
       "      <td>...</td>\n",
       "      <td>...</td>\n",
       "    </tr>\n",
       "    <tr>\n",
       "      <th>995</th>\n",
       "      <td>Big sociological theorists in their \"prime\" ri...</td>\n",
       "      <td>/r/sociology/comments/or3zqy/big_sociological_...</td>\n",
       "      <td>leftzoloft</td>\n",
       "      <td>36</td>\n",
       "      <td>36</td>\n",
       "      <td>It feels like sociology is losing its big theo...</td>\n",
       "      <td>It’s less about sociology losing its big theor...</td>\n",
       "      <td>Big sociological theorists in their \"prime\" ri...</td>\n",
       "    </tr>\n",
       "    <tr>\n",
       "      <th>996</th>\n",
       "      <td>Why wasn't race created earlier?</td>\n",
       "      <td>/r/sociology/comments/ly2nl3/why_wasnt_race_cr...</td>\n",
       "      <td>leftzoloft</td>\n",
       "      <td>17</td>\n",
       "      <td>36</td>\n",
       "      <td>A lot of sociologists argue (and I agree) that...</td>\n",
       "      <td>Race and racism can't really come to fruition ...</td>\n",
       "      <td>Why wasn't race created earlier? A lot of soci...</td>\n",
       "    </tr>\n",
       "    <tr>\n",
       "      <th>997</th>\n",
       "      <td>Has there been research done on how to reduce ...</td>\n",
       "      <td>/r/sociology/comments/jxydre/has_there_been_re...</td>\n",
       "      <td>Slashtap</td>\n",
       "      <td>13</td>\n",
       "      <td>35</td>\n",
       "      <td>I was talking to a friend in the military this...</td>\n",
       "      <td>Having racial bias (with varying degrees of in...</td>\n",
       "      <td>Has there been research done on how to reduce ...</td>\n",
       "    </tr>\n",
       "    <tr>\n",
       "      <th>998</th>\n",
       "      <td>What are large, free database sets that you wi...</td>\n",
       "      <td>/r/sociology/comments/iux2su/what_are_large_fr...</td>\n",
       "      <td>ViolaInternational</td>\n",
       "      <td>6</td>\n",
       "      <td>39</td>\n",
       "      <td></td>\n",
       "      <td>World values survey and European Social Survey...</td>\n",
       "      <td>What are large, free database sets that you wi...</td>\n",
       "    </tr>\n",
       "    <tr>\n",
       "      <th>999</th>\n",
       "      <td>Any recommendations for Marxist-focused sociol...</td>\n",
       "      <td>/r/sociology/comments/clia13/any_recommendatio...</td>\n",
       "      <td>Dpira_Ugotts</td>\n",
       "      <td>33</td>\n",
       "      <td>35</td>\n",
       "      <td>I have been considering doing a PhD in sociolo...</td>\n",
       "      <td>Humboldt University in Berlin, Germany is the ...</td>\n",
       "      <td>Any recommendations for Marxist-focused sociol...</td>\n",
       "    </tr>\n",
       "  </tbody>\n",
       "</table>\n",
       "<p>1000 rows × 8 columns</p>\n",
       "</div>"
      ],
      "text/plain": [
       "                                                 title  \\\n",
       "0    1 out of 5 young people 18-29 now say that the...   \n",
       "1     Is there a paedophilia-panic going on in the US?   \n",
       "2                                          Burned Out?   \n",
       "3                Are memes ok? (Goffman inspired meme)   \n",
       "4    For the sociologist who love The Office as muc...   \n",
       "..                                                 ...   \n",
       "995  Big sociological theorists in their \"prime\" ri...   \n",
       "996                   Why wasn't race created earlier?   \n",
       "997  Has there been research done on how to reduce ...   \n",
       "998  What are large, free database sets that you wi...   \n",
       "999  Any recommendations for Marxist-focused sociol...   \n",
       "\n",
       "                                                  link              author  \\\n",
       "0    /r/sociology/comments/18e3ai0/1_out_of_5_young...  InfluenceLevel1629   \n",
       "1    /r/sociology/comments/17nowa7/is_there_a_paedo...         pixelhippie   \n",
       "2            /r/sociology/comments/18btdj0/burned_out/   Past_Potential902   \n",
       "3    /r/sociology/comments/q3p5wh/are_memes_ok_goff...            swerc137   \n",
       "4    /r/sociology/comments/ktalnx/for_the_sociologi...         frenchkafka   \n",
       "..                                                 ...                 ...   \n",
       "995  /r/sociology/comments/or3zqy/big_sociological_...          leftzoloft   \n",
       "996  /r/sociology/comments/ly2nl3/why_wasnt_race_cr...          leftzoloft   \n",
       "997  /r/sociology/comments/jxydre/has_there_been_re...            Slashtap   \n",
       "998  /r/sociology/comments/iux2su/what_are_large_fr...  ViolaInternational   \n",
       "999  /r/sociology/comments/clia13/any_recommendatio...        Dpira_Ugotts   \n",
       "\n",
       "     n_comments  score                                               text  \\\n",
       "0           419   1225                                                      \n",
       "1           478   1149  Sorry for the bold and somewhat exaggerated cl...   \n",
       "2           185    774  I saw this interesting tweet from a Professor....   \n",
       "3            19    764                                                      \n",
       "4            15    630                                                      \n",
       "..          ...    ...                                                ...   \n",
       "995          36     36  It feels like sociology is losing its big theo...   \n",
       "996          17     36  A lot of sociologists argue (and I agree) that...   \n",
       "997          13     35  I was talking to a friend in the military this...   \n",
       "998           6     39                                                      \n",
       "999          33     35  I have been considering doing a PhD in sociolo...   \n",
       "\n",
       "                                              comments  \\\n",
       "0    Note the 65+ age group value.\\n\\nViewed sociol...   \n",
       "1    Honestly, you may be right. I have certainly s...   \n",
       "2    I feel like none of us have really recovered f...   \n",
       "3    Surprise parties. This is what killed my perso...   \n",
       "4    My students read part of *Suicide* for their S...   \n",
       "..                                                 ...   \n",
       "995  It’s less about sociology losing its big theor...   \n",
       "996  Race and racism can't really come to fruition ...   \n",
       "997  Having racial bias (with varying degrees of in...   \n",
       "998  World values survey and European Social Survey...   \n",
       "999  Humboldt University in Berlin, Germany is the ...   \n",
       "\n",
       "                                              combined  \n",
       "0    1 out of 5 young people 18-29 now say that the...  \n",
       "1    Is there a paedophilia-panic going on in the U...  \n",
       "2    Burned Out? I saw this interesting tweet from ...  \n",
       "3               Are memes ok? (Goffman inspired meme)   \n",
       "4    For the sociologist who love The Office as muc...  \n",
       "..                                                 ...  \n",
       "995  Big sociological theorists in their \"prime\" ri...  \n",
       "996  Why wasn't race created earlier? A lot of soci...  \n",
       "997  Has there been research done on how to reduce ...  \n",
       "998  What are large, free database sets that you wi...  \n",
       "999  Any recommendations for Marxist-focused sociol...  \n",
       "\n",
       "[1000 rows x 8 columns]"
      ]
     },
     "execution_count": 5,
     "metadata": {},
     "output_type": "execute_result"
    }
   ],
   "source": [
    "df['combined'] = df['title'] + ' ' + df['text']\n",
    "df"
   ]
  },
  {
   "cell_type": "markdown",
   "id": "1f5c305b",
   "metadata": {},
   "source": [
    "Since we have both the title and the text from for each post, I could combine them. I will leave the comments separate to avoid diluting the sentiment of the author's opinion."
   ]
  },
  {
   "cell_type": "markdown",
   "id": "a77e23f3",
   "metadata": {},
   "source": [
    "## Keyword sentiment "
   ]
  },
  {
   "cell_type": "markdown",
   "id": "e77a13c8",
   "metadata": {},
   "source": [
    "### AFINN"
   ]
  },
  {
   "cell_type": "markdown",
   "id": "a36fa6df",
   "metadata": {},
   "source": [
    "We will start with a keyword sentiment analysis technique. We begin by loading a dictionary of words along with their respective sentiment values, which range from -5 (Most Negative) to 5 (Most Positive)."
   ]
  },
  {
   "cell_type": "code",
   "execution_count": 2,
   "id": "98f7b406",
   "metadata": {},
   "outputs": [],
   "source": [
    "sentiment_df = pd.read_csv('AFINN-en-165.txt', sep='\\t', names=['word', 'score'], index_col='word')\n",
    "sentiment_dict = sentiment_df.to_dict()['score']"
   ]
  },
  {
   "cell_type": "markdown",
   "id": "c0501531",
   "metadata": {},
   "source": [
    "Then, we perform the sentiment analysis. We take the scores for each word and takes the average to get the sentiment score for the full post (title+text)."
   ]
  },
  {
   "cell_type": "code",
   "execution_count": null,
   "id": "e94f01e9",
   "metadata": {},
   "outputs": [],
   "source": [
    "import numpy as np\n",
    "\n",
    "title_sentiments = []\n",
    "for title in df['combined']:\n",
    "    words = title.lower().split()\n",
    "    this_titles_sentiments = []\n",
    "    for w in words:\n",
    "        if w in sentiment_dict.keys():\n",
    "            this_titles_sentiments.append(sentiment_dict[w])\n",
    "        else:\n",
    "            this_titles_sentiments.append(0)\n",
    "            \n",
    "    \n",
    "    title_sentiments.append(np.mean(this_titles_sentiments))"
   ]
  },
  {
   "cell_type": "code",
   "execution_count": 11,
   "id": "26c5dc89",
   "metadata": {},
   "outputs": [],
   "source": [
    "df['keyword_sentiment'] = title_sentiments"
   ]
  },
  {
   "cell_type": "code",
   "execution_count": 12,
   "id": "5659f448",
   "metadata": {},
   "outputs": [
    {
     "data": {
      "text/plain": [
       "<Axes: ylabel='Frequency'>"
      ]
     },
     "execution_count": 12,
     "metadata": {},
     "output_type": "execute_result"
    },
    {
     "data": {
      "image/png": "[encoded data removed]",
      "text/plain": [
       "<Figure size 640x480 with 1 Axes>"
      ]
     },
     "metadata": {},
     "output_type": "display_data"
    }
   ],
   "source": [
    "df['keyword_sentiment'].plot.hist(bins=30)"
   ]
  },
  {
   "cell_type": "code",
   "execution_count": 13,
   "id": "6558996a",
   "metadata": {},
   "outputs": [
    {
     "data": {
      "text/plain": [
       "0.016592978040396465"
      ]
     },
     "execution_count": 13,
     "metadata": {},
     "output_type": "execute_result"
    }
   ],
   "source": [
    "df['keyword_sentiment'].mean()"
   ]
  },
  {
   "cell_type": "code",
   "execution_count": 22,
   "id": "47f4107e",
   "metadata": {},
   "outputs": [
    {
     "data": {
      "text/plain": [
       "0.0"
      ]
     },
     "execution_count": 22,
     "metadata": {},
     "output_type": "execute_result"
    }
   ],
   "source": [
    "df['keyword_sentiment'].median()"
   ]
  },
  {
   "cell_type": "code",
   "execution_count": 23,
   "id": "de799ede",
   "metadata": {},
   "outputs": [
    {
     "data": {
      "text/plain": [
       "0.14453495208830944"
      ]
     },
     "execution_count": 23,
     "metadata": {},
     "output_type": "execute_result"
    }
   ],
   "source": [
    "df['keyword_sentiment'].std()"
   ]
  },
  {
   "cell_type": "markdown",
   "id": "62378f9b",
   "metadata": {},
   "source": [
    "We received a mean sentiment score of 0.0166 for the keyword sentiment, indicating that on average the sentiment in the posts is almost neutral, but very slightly positive, which maybe caused by the words in our database not being in the lookup dictionary. The standard deviation is 0.14, indicating that most of the keyword sentiment scores are relatively close to the mean of 0.017. This suggests that while there are some keywords that are significantly positive or negative, they are less common compared to those closer to a neutral sentiment.\n",
    "\n",
    "We can analyze some of the top and bottom sentiment posts:"
   ]
  },
  {
   "cell_type": "code",
   "execution_count": 18,
   "id": "7e9d0260",
   "metadata": {},
   "outputs": [
    {
     "data": {
      "text/html": [
       "<div>\n",
       "<style scoped>\n",
       "    .dataframe tbody tr th:only-of-type {\n",
       "        vertical-align: middle;\n",
       "    }\n",
       "\n",
       "    .dataframe tbody tr th {\n",
       "        vertical-align: top;\n",
       "    }\n",
       "\n",
       "    .dataframe thead th {\n",
       "        text-align: right;\n",
       "    }\n",
       "</style>\n",
       "<table border=\"1\" class=\"dataframe\">\n",
       "  <thead>\n",
       "    <tr style=\"text-align: right;\">\n",
       "      <th></th>\n",
       "      <th>combined</th>\n",
       "      <th>keyword_sentiment</th>\n",
       "    </tr>\n",
       "  </thead>\n",
       "  <tbody>\n",
       "    <tr>\n",
       "      <th>651</th>\n",
       "      <td>Do women slut shame other women as much as men...</td>\n",
       "      <td>-0.700000</td>\n",
       "    </tr>\n",
       "    <tr>\n",
       "      <th>538</th>\n",
       "      <td>How faking your feelings at work can be damaging</td>\n",
       "      <td>-0.666667</td>\n",
       "    </tr>\n",
       "    <tr>\n",
       "      <th>547</th>\n",
       "      <td>Norway’s controversial experiment – healing pr...</td>\n",
       "      <td>-0.666667</td>\n",
       "    </tr>\n",
       "    <tr>\n",
       "      <th>431</th>\n",
       "      <td>Why Sexism and Racism Never Diminish-Even When...</td>\n",
       "      <td>-0.615385</td>\n",
       "    </tr>\n",
       "    <tr>\n",
       "      <th>817</th>\n",
       "      <td>Inequality Is Only Getting Worse</td>\n",
       "      <td>-0.600000</td>\n",
       "    </tr>\n",
       "    <tr>\n",
       "      <th>...</th>\n",
       "      <td>...</td>\n",
       "      <td>...</td>\n",
       "    </tr>\n",
       "    <tr>\n",
       "      <th>277</th>\n",
       "      <td>The 100 Best Sociology Books</td>\n",
       "      <td>0.600000</td>\n",
       "    </tr>\n",
       "    <tr>\n",
       "      <th>14</th>\n",
       "      <td>Social disorganization humor</td>\n",
       "      <td>0.666667</td>\n",
       "    </tr>\n",
       "    <tr>\n",
       "      <th>688</th>\n",
       "      <td>Good sociology based podcasts?</td>\n",
       "      <td>0.750000</td>\n",
       "    </tr>\n",
       "    <tr>\n",
       "      <th>31</th>\n",
       "      <td>Yes</td>\n",
       "      <td>1.000000</td>\n",
       "    </tr>\n",
       "    <tr>\n",
       "      <th>19</th>\n",
       "      <td>Pure gold</td>\n",
       "      <td>1.500000</td>\n",
       "    </tr>\n",
       "  </tbody>\n",
       "</table>\n",
       "<p>1000 rows × 2 columns</p>\n",
       "</div>"
      ],
      "text/plain": [
       "                                              combined  keyword_sentiment\n",
       "651  Do women slut shame other women as much as men...          -0.700000\n",
       "538  How faking your feelings at work can be damaging           -0.666667\n",
       "547  Norway’s controversial experiment – healing pr...          -0.666667\n",
       "431  Why Sexism and Racism Never Diminish-Even When...          -0.615385\n",
       "817                  Inequality Is Only Getting Worse           -0.600000\n",
       "..                                                 ...                ...\n",
       "277                      The 100 Best Sociology Books            0.600000\n",
       "14                       Social disorganization humor            0.666667\n",
       "688                    Good sociology based podcasts?            0.750000\n",
       "31                                                Yes            1.000000\n",
       "19                                          Pure gold            1.500000\n",
       "\n",
       "[1000 rows x 2 columns]"
      ]
     },
     "execution_count": 18,
     "metadata": {},
     "output_type": "execute_result"
    }
   ],
   "source": [
    "df.sort_values(by='keyword_sentiment')[['combined', 'keyword_sentiment']]"
   ]
  },
  {
   "cell_type": "code",
   "execution_count": 24,
   "id": "cbfc9dc2",
   "metadata": {},
   "outputs": [
    {
     "data": {
      "text/plain": [
       "['Do women slut shame other women as much as men? And why do men and women slut shame other women?',\n",
       " 'How faking your feelings at work can be damaging ',\n",
       " 'Norway’s controversial experiment – healing prisoners instead of punishing ',\n",
       " 'Why Sexism and Racism Never Diminish-Even When Everyone Becomes Less Sexist and Racist ',\n",
       " 'Inequality Is Only Getting Worse ',\n",
       " 'How to Destroy ‘Surveillance Capitalism’ ',\n",
       " 'A cleansing fire: Moral outrage alleviates guilt and buffers threats to one’s moral identity ',\n",
       " 'The 1% of the population accountable for 63% of all violent crime convictions ',\n",
       " 'Anthony Giddens \"The Suicide Problem in French Sociology\" 1965. ',\n",
       " 'The Shocking Truth of the Notorious Milgram Obedience Experiments ']"
      ]
     },
     "execution_count": 24,
     "metadata": {},
     "output_type": "execute_result"
    }
   ],
   "source": [
    "df.sort_values(by='keyword_sentiment')['combined'].to_list()[:10]"
   ]
  },
  {
   "cell_type": "markdown",
   "id": "d4f12fea",
   "metadata": {},
   "source": [
    "Sorting the posts to identify the lowest sentiment scores reveals posts on negative attitudes towards women, poor mental health, sexism, racism, inequality, suicide, and other social issues. These are negative topics, which suggests that the sentiment scores are accurate. However, one of the bottom ten posts addresses the topic of healing prisoners instead of punishing them. While this subject promotes the positive idea of supporting and reintegrating prisoners, it received a negative score due to it having more negative words 'controversial' (score : -2), 'prisoners' (score : -2), and 'punishing' (score : -2), compared to positive ones 'healing' (score : 0)."
   ]
  },
  {
   "cell_type": "code",
   "execution_count": 25,
   "id": "96f76d7d",
   "metadata": {},
   "outputs": [
    {
     "data": {
      "text/plain": [
       "['Pure gold ',\n",
       " 'Yes ',\n",
       " 'Good sociology based podcasts? ',\n",
       " 'Social disorganization humor ',\n",
       " 'The 100 Best Sociology Books ',\n",
       " 'Wealth matters when it comes to obesity ',\n",
       " 'How happiness in marriage changes over time ',\n",
       " '70% of rich families lose wealth by second generation, 90% by third ',\n",
       " 'Stuart Hall, Champion of cultural studies and leading intellectual dies ',\n",
       " 'Rest In Peace bell hooks ']"
      ]
     },
     "execution_count": 25,
     "metadata": {},
     "output_type": "execute_result"
    }
   ],
   "source": [
    "df.sort_values(by='keyword_sentiment', ascending=False)['combined'].to_list()[:10]"
   ]
  },
  {
   "cell_type": "markdown",
   "id": "3ef31e37",
   "metadata": {},
   "source": [
    "Sorting the posts by the highest sentiment scores reveals a mix of positive posts containing words like (gold, yes, and good) and others that aren’t positive, such as two posts about death. This occurred because the sentiment analysis picked up positive words like ‘champion’ (score: 2) and ‘leading’ (score: 2), which outweighed ‘dies’ (score: 0), a word not included in the sentiment library. As a result, these posts were incorrectly classified as positive. In order to fix this, we need a model that can take context into account."
   ]
  },
  {
   "cell_type": "markdown",
   "id": "116cda78",
   "metadata": {},
   "source": [
    "### TextBlob"
   ]
  },
  {
   "cell_type": "code",
   "execution_count": 28,
   "id": "6d9e17b6",
   "metadata": {},
   "outputs": [],
   "source": [
    "def get_tb_sentiment(text):\n",
    "    tb = TextBlob(text)\n",
    "    return tb.sentiment[0]\n",
    "\n",
    "df['tb_sentiment'] = df['combined'].apply(get_tb_sentiment)"
   ]
  },
  {
   "cell_type": "code",
   "execution_count": 29,
   "id": "a2132af7",
   "metadata": {},
   "outputs": [
    {
     "data": {
      "text/plain": [
       "<Axes: ylabel='Frequency'>"
      ]
     },
     "execution_count": 29,
     "metadata": {},
     "output_type": "execute_result"
    },
    {
     "data": {
      "image/png": "[encoded data removed]",
      "text/plain": [
       "<Figure size 640x480 with 1 Axes>"
      ]
     },
     "metadata": {},
     "output_type": "display_data"
    }
   ],
   "source": [
    "df['tb_sentiment'].plot.hist(bins=30)"
   ]
  },
  {
   "cell_type": "markdown",
   "id": "6b755974",
   "metadata": {},
   "source": [
    "We can see that the distribution using TextBlob looks similar but is more spread out than our AFINN method, which maybe because TextBlob has more words in its lookup dictionary than the AFINN dictionary."
   ]
  },
  {
   "cell_type": "code",
   "execution_count": 30,
   "id": "3b54f86e",
   "metadata": {},
   "outputs": [
    {
     "data": {
      "text/plain": [
       "0.11010258492311031"
      ]
     },
     "execution_count": 30,
     "metadata": {},
     "output_type": "execute_result"
    }
   ],
   "source": [
    "df['tb_sentiment'].mean()"
   ]
  },
  {
   "cell_type": "code",
   "execution_count": 34,
   "id": "b802a53f",
   "metadata": {},
   "outputs": [
    {
     "data": {
      "text/html": [
       "<div>\n",
       "<style scoped>\n",
       "    .dataframe tbody tr th:only-of-type {\n",
       "        vertical-align: middle;\n",
       "    }\n",
       "\n",
       "    .dataframe tbody tr th {\n",
       "        vertical-align: top;\n",
       "    }\n",
       "\n",
       "    .dataframe thead th {\n",
       "        text-align: right;\n",
       "    }\n",
       "</style>\n",
       "<table border=\"1\" class=\"dataframe\">\n",
       "  <thead>\n",
       "    <tr style=\"text-align: right;\">\n",
       "      <th></th>\n",
       "      <th>combined</th>\n",
       "      <th>tb_sentiment</th>\n",
       "    </tr>\n",
       "  </thead>\n",
       "  <tbody>\n",
       "    <tr>\n",
       "      <th>78</th>\n",
       "      <td>What are “must-read” sociology books? Hit me w...</td>\n",
       "      <td>1.00</td>\n",
       "    </tr>\n",
       "    <tr>\n",
       "      <th>693</th>\n",
       "      <td>Education is often touted as the 'great equali...</td>\n",
       "      <td>1.00</td>\n",
       "    </tr>\n",
       "    <tr>\n",
       "      <th>345</th>\n",
       "      <td>What is the best paper in sociology that you h...</td>\n",
       "      <td>1.00</td>\n",
       "    </tr>\n",
       "    <tr>\n",
       "      <th>277</th>\n",
       "      <td>The 100 Best Sociology Books</td>\n",
       "      <td>1.00</td>\n",
       "    </tr>\n",
       "    <tr>\n",
       "      <th>639</th>\n",
       "      <td>This is fascinating. No verbal instruction to ...</td>\n",
       "      <td>0.85</td>\n",
       "    </tr>\n",
       "    <tr>\n",
       "      <th>...</th>\n",
       "      <td>...</td>\n",
       "      <td>...</td>\n",
       "    </tr>\n",
       "    <tr>\n",
       "      <th>312</th>\n",
       "      <td>For when you need to talk with your economist ...</td>\n",
       "      <td>-0.75</td>\n",
       "    </tr>\n",
       "    <tr>\n",
       "      <th>269</th>\n",
       "      <td>Tutorial on how to calculate descriptive stati...</td>\n",
       "      <td>-0.75</td>\n",
       "    </tr>\n",
       "    <tr>\n",
       "      <th>399</th>\n",
       "      <td>The 1% of the population accountable for 63% o...</td>\n",
       "      <td>-0.80</td>\n",
       "    </tr>\n",
       "    <tr>\n",
       "      <th>759</th>\n",
       "      <td>The Shocking Truth of the Notorious Milgram Ob...</td>\n",
       "      <td>-1.00</td>\n",
       "    </tr>\n",
       "    <tr>\n",
       "      <th>593</th>\n",
       "      <td>There’s an awful cost to getting a PhD that no...</td>\n",
       "      <td>-1.00</td>\n",
       "    </tr>\n",
       "  </tbody>\n",
       "</table>\n",
       "<p>1000 rows × 2 columns</p>\n",
       "</div>"
      ],
      "text/plain": [
       "                                              combined  tb_sentiment\n",
       "78   What are “must-read” sociology books? Hit me w...          1.00\n",
       "693  Education is often touted as the 'great equali...          1.00\n",
       "345  What is the best paper in sociology that you h...          1.00\n",
       "277                      The 100 Best Sociology Books           1.00\n",
       "639  This is fascinating. No verbal instruction to ...          0.85\n",
       "..                                                 ...           ...\n",
       "312  For when you need to talk with your economist ...         -0.75\n",
       "269  Tutorial on how to calculate descriptive stati...         -0.75\n",
       "399  The 1% of the population accountable for 63% o...         -0.80\n",
       "759  The Shocking Truth of the Notorious Milgram Ob...         -1.00\n",
       "593  There’s an awful cost to getting a PhD that no...         -1.00\n",
       "\n",
       "[1000 rows x 2 columns]"
      ]
     },
     "execution_count": 34,
     "metadata": {},
     "output_type": "execute_result"
    }
   ],
   "source": [
    "df.sort_values(by='tb_sentiment', ascending=False)[['combined', 'tb_sentiment']]"
   ]
  },
  {
   "cell_type": "code",
   "execution_count": 37,
   "id": "6c89b29f",
   "metadata": {},
   "outputs": [
    {
     "data": {
      "text/plain": [
       "['What are “must-read” sociology books? Hit me with your best books.',\n",
       " \"Education is often touted as the 'great equalizer.' But does it truly mitigate socioeconomic disparities? Share your thoughts! \",\n",
       " 'What is the best paper in sociology that you have read in 2018 and why? ',\n",
       " 'The 100 Best Sociology Books ',\n",
       " 'This is fascinating. No verbal instruction to the audience, yet a perfect conveyance of instruction. ',\n",
       " 'Trump’s Win Has Ad Agencies Rethink How They Collect Data, Recruit staff: Trump’s win spurs concerns that ad agencies are out of touch with consumers | The Wall Street Journal ',\n",
       " 'Are sociology memes welcome on this subreddit? Title.',\n",
       " 'Iran set to elect record number of women into parliament. Eight of the women elected this time were on a reformist-backed list of 30 candidates standing in the Tehran constituency known as “the list of hope”. Among them is Parvaneh Salahshori, a 51-year-old sociologist and university professor. ',\n",
       " 'The automatic audio transcript for my Sociology class had very amusing spellings for Durkheim and Max Weber. ',\n",
       " 'Kids from wealthier families feel more control over their lives - \"Sociologists examined which measures of socioeconomic status -- parents\\' education, family income, race and parents\\' occupation -- have the greatest influence over a child\\'s locus of control and why.\" ']"
      ]
     },
     "execution_count": 37,
     "metadata": {},
     "output_type": "execute_result"
    }
   ],
   "source": [
    "df.sort_values(by='tb_sentiment', ascending=False)['combined'].to_list()[:10]"
   ]
  },
  {
   "cell_type": "code",
   "execution_count": 38,
   "id": "0a8437bc",
   "metadata": {},
   "outputs": [
    {
     "data": {
      "text/plain": [
       "['There’s an awful cost to getting a PhD that no one talks about ',\n",
       " 'The Shocking Truth of the Notorious Milgram Obedience Experiments ',\n",
       " 'The 1% of the population accountable for 63% of all violent crime convictions ',\n",
       " 'For when you need to talk with your economist friends: [http://www-personal.umich.edu/\\\\~econjeff/Papers/econ\\\\_soc\\\\_phrase\\\\_original.pdf](http://www-personal.umich.edu/~econjeff/Papers/econ_soc_phrase_original.pdf)',\n",
       " \"Tutorial on how to calculate descriptive statistics in R Hey, I've created a tutorial on how to calculate descriptive statistics using the summary() function in the R programming language: [https://statisticsglobe.com/summary-function-in-r/](https://statisticsglobe.com/summary-function-in-r/)\",\n",
       " 'Is Fascism Bad? ',\n",
       " 'Climate change ignored? U-M study reveals sociology’s blind spot ',\n",
       " \"Breakdown of Jay Z's 99 Problems with the sociology and law behind the verses \",\n",
       " \"Employed but homeless in the US: The 'working poor' who can't afford to rent \",\n",
       " 'Majority now say Supreme Court should interpret Constitution for today - A majority of Americans (55%) now say the U.S. Supreme Court should base its rulings on what the Constitution “means in current times\" ']"
      ]
     },
     "execution_count": 38,
     "metadata": {},
     "output_type": "execute_result"
    }
   ],
   "source": [
    "df.sort_values(by='tb_sentiment', ascending=True)['combined'].to_list()[:10]"
   ]
  },
  {
   "cell_type": "markdown",
   "id": "236f9eda",
   "metadata": {},
   "source": [
    "# Summary"
   ]
  },
  {
   "cell_type": "markdown",
   "id": "c7d6282c",
   "metadata": {},
   "source": [
    "First, I loaded the data from our SQLite database we saved last week. I combined the title and text columns. I left the comments separate to avoid diluting the sentiment of the author's opinion.\n",
    "\n",
    "I conducted a keyword sentiment analysis. I loaded a dictionary of words along with their respective sentiment values, which range from -5 (Most Negative) to 5 (Most Positive), then, I took the scores for each word and calculated the average to get the sentiment score for each full post (title+text).\n",
    "\n",
    "I received a mean sentiment score of 0.0166 for the keyword sentiment, indicating that on average the sentiment in the posts is almost neutral, but very slightly positive, which maybe caused by the words in my database not being in the lookup dictionary. The standard deviation is 0.14, indicating that most of the keyword sentiment scores are relatively close to the mean of 0.017. This suggests that while there are some keywords that are significantly positive or negative, they are less common compared to those closer to a neutral sentiment.\n",
    "\n",
    "I then analyzed some of the top and bottom sentiment posts:\n",
    "\n",
    "Sorting the posts by the lowest sentiment scores revealed posts on negative attitudes towards women, poor mental health, sexism, racism, inequality, suicide, and other social issues. These are negative topics, which suggests that the sentiment scores are accurate. However, one of the bottom ten posts addresses the topic of healing prisoners instead of punishing them. While this subject promotes the positive idea of supporting and reintegrating prisoners, it received a negative score due to it having more negative words 'controversial' (score : -2), 'prisoners' (score : -2), and 'punishing' (score : -2), compared to positive ones 'healing' (score : 0).\n",
    "\n",
    "Sorting the posts by the highest sentiment scores revealed a mix of positive posts containing words like ‘gold’, ‘yes’, and ‘good’ and others that aren’t positive, such as two posts about death. This occurred because the sentiment analysis picked up positive words in the post “Stuart Hall, Champion of cultural studies and leading intellectual dies” like ‘champion’ (score: 2) and ‘leading’ (score: 2), which outweighed the word ‘dies’ (score: 0), a word not included in the sentiment library. As a result, these posts were incorrectly classified as positive. In order to fix this, we need a model that can take context into account.\n",
    "\n",
    "Using the TextBlob methode, the sentiment scores were generally accurate to the meaning of the posts.\n",
    "\n",
    "I believe sentiment analysis can be a valuable tool for both business and personal use. One idea that immediately came to mind is using it to analyze journal entries. By inputting these as data, I could assess my overall mental state on any given day. This would allow me to identify patterns and track emotional highs and lows. By linking these trends with specific events, medications, or weather conditions, I could better understand the causes of mood changes. I think this would be very effective for mental health monitoring and improvement."
   ]
  }
 ],
 "metadata": {
  "kernelspec": {
   "display_name": "base",
   "language": "python",
   "name": "python3"
  },
  "language_info": {
   "codemirror_mode": {
    "name": "ipython",
    "version": 3
   },
   "file_extension": ".py",
   "mimetype": "text/x-python",
   "name": "python",
   "nbconvert_exporter": "python",
   "pygments_lexer": "ipython3",
   "version": "3.12.2"
  }
 },
 "nbformat": 4,
 "nbformat_minor": 5
}
